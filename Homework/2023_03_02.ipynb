{
 "cells": [
  {
   "cell_type": "code",
   "execution_count": 1,
   "source": [
    "# hw_one_week 2023.03.02. (Thur)\n",
    "# Data, labels 열 개만 출력해서 실제 값을 확인하세요.\n",
    "# (랜덤한 10가지의 data와 lables 출력)\n",
    "\n",
    "from sklearn.datasets import load_breast_cancer\n",
    "import pandas as pd\n",
    "\n",
    "breast_cancer_data = load_breast_cancer()\n",
    "\n",
    "df_data = pd.DataFrame(breast_cancer_data.data)\n",
    "df_labels = pd.DataFrame(breast_cancer_data.target)"
   ],
   "outputs": [],
   "metadata": {}
  },
  {
   "cell_type": "code",
   "execution_count": 2,
   "source": [
    "# Data | labels\n",
    "df_data.sample(n = 10)\n",
    "df_labels.sample(n = 10)"
   ],
   "outputs": [
    {
     "output_type": "execute_result",
     "data": {
      "text/html": [
       "<div>\n",
       "<style scoped>\n",
       "    .dataframe tbody tr th:only-of-type {\n",
       "        vertical-align: middle;\n",
       "    }\n",
       "\n",
       "    .dataframe tbody tr th {\n",
       "        vertical-align: top;\n",
       "    }\n",
       "\n",
       "    .dataframe thead th {\n",
       "        text-align: right;\n",
       "    }\n",
       "</style>\n",
       "<table border=\"1\" class=\"dataframe\">\n",
       "  <thead>\n",
       "    <tr style=\"text-align: right;\">\n",
       "      <th></th>\n",
       "      <th>0</th>\n",
       "    </tr>\n",
       "  </thead>\n",
       "  <tbody>\n",
       "    <tr>\n",
       "      <th>113</th>\n",
       "      <td>1</td>\n",
       "    </tr>\n",
       "    <tr>\n",
       "      <th>453</th>\n",
       "      <td>1</td>\n",
       "    </tr>\n",
       "    <tr>\n",
       "      <th>194</th>\n",
       "      <td>0</td>\n",
       "    </tr>\n",
       "    <tr>\n",
       "      <th>274</th>\n",
       "      <td>0</td>\n",
       "    </tr>\n",
       "    <tr>\n",
       "      <th>5</th>\n",
       "      <td>0</td>\n",
       "    </tr>\n",
       "    <tr>\n",
       "      <th>106</th>\n",
       "      <td>1</td>\n",
       "    </tr>\n",
       "    <tr>\n",
       "      <th>489</th>\n",
       "      <td>0</td>\n",
       "    </tr>\n",
       "    <tr>\n",
       "      <th>235</th>\n",
       "      <td>1</td>\n",
       "    </tr>\n",
       "    <tr>\n",
       "      <th>153</th>\n",
       "      <td>1</td>\n",
       "    </tr>\n",
       "    <tr>\n",
       "      <th>267</th>\n",
       "      <td>1</td>\n",
       "    </tr>\n",
       "  </tbody>\n",
       "</table>\n",
       "</div>"
      ],
      "text/plain": [
       "     0\n",
       "113  1\n",
       "453  1\n",
       "194  0\n",
       "274  0\n",
       "5    0\n",
       "106  1\n",
       "489  0\n",
       "235  1\n",
       "153  1\n",
       "267  1"
      ]
     },
     "metadata": {},
     "execution_count": 2
    }
   ],
   "metadata": {}
  },
  {
   "cell_type": "code",
   "execution_count": 4,
   "source": [
    "# .columns 속성을 이용하여 데이터 df의 컬럼명을 모두 출력함.\n",
    "df_labels.columns"
   ],
   "outputs": [
    {
     "output_type": "execute_result",
     "data": {
      "text/plain": [
       "RangeIndex(start=0, stop=1, step=1)"
      ]
     },
     "metadata": {},
     "execution_count": 4
    }
   ],
   "metadata": {}
  },
  {
   "cell_type": "code",
   "execution_count": 5,
   "source": [
    "# .head() 함수를 이용하여 상위 5행을 출력\n",
    "df_labels.head()"
   ],
   "outputs": [
    {
     "output_type": "execute_result",
     "data": {
      "text/html": [
       "<div>\n",
       "<style scoped>\n",
       "    .dataframe tbody tr th:only-of-type {\n",
       "        vertical-align: middle;\n",
       "    }\n",
       "\n",
       "    .dataframe tbody tr th {\n",
       "        vertical-align: top;\n",
       "    }\n",
       "\n",
       "    .dataframe thead th {\n",
       "        text-align: right;\n",
       "    }\n",
       "</style>\n",
       "<table border=\"1\" class=\"dataframe\">\n",
       "  <thead>\n",
       "    <tr style=\"text-align: right;\">\n",
       "      <th></th>\n",
       "      <th>0</th>\n",
       "    </tr>\n",
       "  </thead>\n",
       "  <tbody>\n",
       "    <tr>\n",
       "      <th>0</th>\n",
       "      <td>0</td>\n",
       "    </tr>\n",
       "    <tr>\n",
       "      <th>1</th>\n",
       "      <td>0</td>\n",
       "    </tr>\n",
       "    <tr>\n",
       "      <th>2</th>\n",
       "      <td>0</td>\n",
       "    </tr>\n",
       "    <tr>\n",
       "      <th>3</th>\n",
       "      <td>0</td>\n",
       "    </tr>\n",
       "    <tr>\n",
       "      <th>4</th>\n",
       "      <td>0</td>\n",
       "    </tr>\n",
       "  </tbody>\n",
       "</table>\n",
       "</div>"
      ],
      "text/plain": [
       "   0\n",
       "0  0\n",
       "1  0\n",
       "2  0\n",
       "3  0\n",
       "4  0"
      ]
     },
     "metadata": {},
     "execution_count": 5
    }
   ],
   "metadata": {}
  },
  {
   "cell_type": "code",
   "execution_count": 6,
   "source": [
    "# malignant = 0, benign = 1\n",
    "print(breast_cancer_data.target_names)"
   ],
   "outputs": [
    {
     "output_type": "stream",
     "name": "stdout",
     "text": [
      "['malignant' 'benign']\n"
     ]
    }
   ],
   "metadata": {}
  },
  {
   "cell_type": "code",
   "execution_count": 7,
   "source": [
    "# X_train, y_train, X_test, y_test로 훈련과 테스트 데이터를 8:2로 나누기\n",
    "from sklearn.model_selection import train_test_split \n",
    "\n",
    "X_train, X_test, y_train, y_test = train_test_split(df_data, df_labels, test_size=0.2, random_state=6)\n",
    "\n",
    "print(\"X_train.shape :\", X_train.shape)\n",
    "\n",
    "print(\"y_train.shape :\", y_train.shape)\n",
    "\n",
    "print(\"X_test.shape :\", X_test.shape)\n",
    "\n",
    "print(\"y_test.shape :\", y_test.shape)"
   ],
   "outputs": [
    {
     "output_type": "stream",
     "name": "stdout",
     "text": [
      "X_train.shape : (455, 30)\n",
      "y_train.shape : (455, 1)\n",
      "X_test.shape : (114, 30)\n",
      "y_test.shape : (114, 1)\n"
     ]
    }
   ],
   "metadata": {}
  },
  {
   "cell_type": "code",
   "execution_count": 14,
   "source": [
    "# https://soranhan.tistory.com/21\n",
    "\n",
    "import warnings\n",
    "warnings.simplefilter(action='ignore', category=FutureWarning) # FutureWarning 제거"
   ],
   "outputs": [],
   "metadata": {}
  },
  {
   "cell_type": "code",
   "execution_count": 15,
   "source": [
    "from sklearn.neighbors import KNeighborsClassifier\n",
    "\n",
    "mymodel = KNeighborsClassifier(n_neighbors=3)\n",
    "mymodel.fit(X_train, y_train.values.ravel())\n",
    "\n",
    "# 예측\n",
    "prediction = mymodel.predict(X_test)\n",
    "\n",
    "print(mymodel.score(X_test, y_test))"
   ],
   "outputs": [
    {
     "output_type": "stream",
     "name": "stdout",
     "text": [
      "0.9385964912280702\n"
     ]
    }
   ],
   "metadata": {}
  },
  {
   "cell_type": "code",
   "execution_count": 17,
   "source": [
    "# Accuracy 증가시키기(최적의 k 값 찾기)\n",
    "import matplotlib.pyplot as plt\n",
    "\n",
    "k_range = range(1, 101)\n",
    "find_optimal_k = []\n",
    "\n",
    "for k in k_range:\n",
    "    find_k = KNeighborsClassifier(n_neighbors=k)\n",
    "    find_k.fit(X_train, y_train.values.ravel())\n",
    "    find_optimal_k.append(find_k.score(X_test, y_test))\n",
    "\n",
    "plt.plot(k_range, find_optimal_k, label=\"training accuracy\")\n",
    "plt.xlabel(\"k value\")\n",
    "plt.ylabel(\"Accuracy\")\n",
    "plt.title(\"Find optimal k\")\n",
    "plt.show()"
   ],
   "outputs": [
    {
     "output_type": "display_data",
     "data": {
      "image/png": "[encoded data removed]",
      "text/plain": [
       "<Figure size 640x480 with 1 Axes>"
      ]
     },
     "metadata": {}
    }
   ],
   "metadata": {}
  },
  {
   "cell_type": "code",
   "execution_count": 26,
   "source": [
    "\"\"\"\n",
    "# 검증(DataConversionWarning으로 너무 더러워 져서 코드는 잘 작동합니다.)\n",
    "\n",
    "from sklearn import metrics\n",
    "import numpy as np\n",
    "Ks = 100\n",
    "mean_acc = np.zeros((Ks - 1))\n",
    "std_acc = np.zeros((Ks - 1))\n",
    "\n",
    "for n in range(1, Ks):\n",
    "    clf = KNeighborsClassifier(n_neighbors=n).fit(X_train, y_train)\n",
    "    yhat = clf.predict(X_test)\n",
    "    mean_acc[n - 1] = metrics.accuracy_score(y_test, yhat)\n",
    "\n",
    "print(mean_acc)\n",
    "\"\"\""
   ],
   "outputs": [
    {
     "output_type": "execute_result",
     "data": {
      "text/plain": [
       "'\\n# 검증(DataConversionWarning으로 너무 더러워 져서 코드는 잘 작동합니다.)\\n\\nfrom sklearn import metrics\\nimport numpy as np\\nKs = 100\\nmean_acc = np.zeros((Ks - 1))\\nstd_acc = np.zeros((Ks - 1))\\n\\nfor n in range(1, Ks):\\n    clf = KNeighborsClassifier(n_neighbors=n).fit(X_train, y_train)\\n    yhat = clf.predict(X_test)\\n    mean_acc[n - 1] = metrics.accuracy_score(y_test, yhat)\\n\\nprint(mean_acc)\\n'"
      ]
     },
     "metadata": {},
     "execution_count": 26
    }
   ],
   "metadata": {}
  },
  {
   "cell_type": "code",
   "execution_count": 27,
   "source": [
    "# 데이터 전처리 (min-max-normalization)\n",
    "X_train, X_test, y_train, y_test = train_test_split(df_data, df_labels, test_size=0.2, random_state=6)"
   ],
   "outputs": [],
   "metadata": {}
  },
  {
   "cell_type": "code",
   "execution_count": 28,
   "source": [
    "# min-max-normalization\n",
    "min_X_train = X_train.min(axis=0)\n",
    "max_X_train = X_train.max(axis=0)\n",
    "scaled_X_train = (X_train - min_X_train) / (max_X_train - min_X_train)\n",
    "\n",
    "print(scaled_X_train.shape)"
   ],
   "outputs": [
    {
     "output_type": "stream",
     "name": "stdout",
     "text": [
      "(455, 30)\n"
     ]
    }
   ],
   "metadata": {}
  },
  {
   "cell_type": "code",
   "execution_count": 29,
   "source": [
    "min_X_test = X_test.min(axis=0)\n",
    "max_X_test = X_test.max(axis=0)\n",
    "scaled_X_test = (X_test - min_X_test) / (max_X_test - min_X_test)\n",
    "\n",
    "print(scaled_X_test.shape)"
   ],
   "outputs": [
    {
     "output_type": "stream",
     "name": "stdout",
     "text": [
      "(114, 30)\n"
     ]
    }
   ],
   "metadata": {}
  },
  {
   "cell_type": "code",
   "execution_count": 30,
   "source": [
    "# 데이터 전처리 이후 도출된 정확도\n",
    "scaled_model = KNeighborsClassifier(n_neighbors=3)\n",
    "scaled_model.fit(scaled_X_train, y_train.values.ravel())\n",
    "prediction = scaled_model.predict(scaled_X_test)\n",
    "\n",
    "scaled_accuracy = scaled_model.score(scaled_X_test, y_test)\n",
    "\n",
    "print(scaled_accuracy)"
   ],
   "outputs": [
    {
     "output_type": "stream",
     "name": "stdout",
     "text": [
      "0.9122807017543859\n"
     ]
    }
   ],
   "metadata": {}
  },
  {
   "cell_type": "code",
   "execution_count": 31,
   "source": [
    "# 데이터의 전처리(z-score-normalization)\n",
    "# 평균, 표준편차 계산\n",
    "\n",
    "mean = np.mean(X_train, axis=0)\n",
    "std = np.std(X_train, axis=0)"
   ],
   "outputs": [],
   "metadata": {}
  },
  {
   "cell_type": "code",
   "execution_count": 32,
   "source": [
    "# z-score-normalization\n",
    "z_scaled_X_train = (X_train - mean) / std\n",
    "z_scaled_X_test = (X_test - mean) / std"
   ],
   "outputs": [],
   "metadata": {}
  },
  {
   "cell_type": "code",
   "execution_count": 33,
   "source": [
    "# 데이터의 전처리 이후 도출된 정확도\n",
    "z_scaled_model = KNeighborsClassifier(n_neighbors=3)\n",
    "z_scaled_model.fit(z_scaled_X_train, y_train.values.ravel())\n",
    "prediction = z_scaled_model.predict(z_scaled_X_test)\n",
    "\n",
    "z_scaled_accuracy = z_scaled_model.score(z_scaled_X_test, y_test)\n",
    "\n",
    "print(z_scaled_accuracy)"
   ],
   "outputs": [
    {
     "output_type": "stream",
     "name": "stdout",
     "text": [
      "0.9649122807017544\n"
     ]
    }
   ],
   "metadata": {}
  }
 ],
 "nbformat": 4,
 "nbformat_minor": 2,
 "metadata": {
  "language_info": {
   "codemirror_mode": {
    "name": "ipython",
    "version": 3
   },
   "file_extension": ".py",
   "mimetype": "text/x-python",
   "name": "python",
   "nbconvert_exporter": "python",
   "pygments_lexer": "ipython3",
   "version": 3
  },
  "orig_nbformat": 4
 }
}